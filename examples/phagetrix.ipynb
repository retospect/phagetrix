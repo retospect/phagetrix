{
  "cells": [
    {
      "cell_type": "markdown",
      "metadata": {
        "id": "LAPcUzq5m7SI"
      },
      "source": [
        "Interactive example for [Phagetrix](https://github.com/retospect/phagetrix), the degenerate codon generator for phage display screens.\n",
        "\n",
        "1. Click on Runtime → Run All in the menu, or click the play buttons in order.\n",
        "2. Scroll down to see the proposed sequence.\n",
        "3. Alter the request string to solve your problem.\n",
        "\n",
        "**Note**: This notebook uses the modern Phagetrix API (v1.0+) with improved functionality and user-friendly species aliases."
      ]
    },
    {
      "cell_type": "code",
      "execution_count": null,
      "metadata": {
        "id": "fU6iJfnCgGaS"
      },
      "outputs": [],
      "source": [
        "# Installing phagetrix here\n",
        "!pip install phagetrix"
      ]
    },
    {
      "cell_type": "code",
      "execution_count": null,
      "metadata": {
        "id": "HhHcbzUVgHBV"
      },
      "outputs": [],
      "source": [
        "import phagetrix\n",
        "\n",
        "# Example sequence with variations\n",
        "sequence = \"VLPYMVAAQVQ\"\n",
        "variations = {\n",
        "    3: \"PFYA\",    # Position 3: P can be P, F, Y, or A\n",
        "    4: \"YPFYA\",   # Position 4: Y can be Y, P, F, Y, or A  \n",
        "    7: \"AVILM\",   # Position 7: A can be A, V, I, L, or M\n",
        "    8: \"AV\"       # Position 8: A can be A or V\n",
        "}\n",
        "\n",
        "print(\"🧬 Phagetrix Codon Optimization Example\")\n",
        "print(\"=\" * 50)\n",
        "print(f\"Original sequence: {sequence}\")\n",
        "print(f\"Variations: {variations}\")\n",
        "print()\n",
        "\n",
        "# Generate optimized codons using the modern API\n",
        "result = phagetrix.optimize_codons(\n",
        "    sequence=sequence,\n",
        "    variations=variations,\n",
        "    company=\"IDT\",        # DNA synthesis company\n",
        "    species=\"e_coli\"      # Species for codon usage (user-friendly alias)\n",
        ")\n",
        "\n",
        "print(\"🎯 Optimization Results:\")\n",
        "print(\"=\" * 30)\n",
        "print(f\"Final DNA sequence: {result['final_sequence']}\")\n",
        "print(f\"Degenerate codons: {result['degenerate_codons']}\")\n",
        "print(f\"Efficiency per position: {result['efficiency']}%\")\n",
        "print()\n",
        "\n",
        "# Calculate library statistics\n",
        "stats = phagetrix.calculate_library_stats(sequence, variations)\n",
        "print(\"📊 Library Statistics:\")\n",
        "print(\"=\" * 25)\n",
        "print(f\"Theoretical diversity: {stats['diversity']:,} variants\")\n",
        "print(f\"Single variant probability: {stats['probability_single']:.2e}\")\n",
        "print(f\"Material needed: {stats['material_amount']}\")\n",
        "print()\n",
        "\n",
        "print(\"✨ You can modify the sequence and variations above to solve your specific problem!\")\n",
        "print(\"💡 Tip: Use 'e_coli' for E. coli, 'h_sapiens_9606' for human, etc.\")"
      ]
    },
    {
      "cell_type": "code",
      "execution_count": null,
      "metadata": {},
      "outputs": [],
      "source": [
        "# 🔬 Advanced Examples\n",
        "\n",
        "print(\"🔬 Advanced Phagetrix Examples\")\n",
        "print(\"=\" * 40)\n",
        "\n",
        "# Example 1: Different DNA synthesis companies\n",
        "print(\"\\n1️⃣ Comparing DNA Synthesis Companies:\")\n",
        "companies = phagetrix.get_available_companies()\n",
        "print(f\"Available companies: {companies}\")\n",
        "\n",
        "for company in [\"IDT\", \"Eurofins\", \"NEB\"]:\n",
        "    result = phagetrix.optimize_codons(\"ACDEF\", {1: \"AG\", 3: \"DEF\"}, company=company)\n",
        "    print(f\"{company:8}: {result['final_sequence']}\")\n",
        "\n",
        "# Example 2: Different species\n",
        "print(\"\\n2️⃣ Species-Specific Codon Usage:\")\n",
        "species_list = [\"e_coli\", \"h_sapiens_9606\", \"s_cerevisiae_4932\"]\n",
        "for species in species_list:\n",
        "    result = phagetrix.optimize_codons(\"ACDEF\", {1: \"AG\"}, species=species)\n",
        "    print(f\"{species:15}: {result['final_sequence']}\")\n",
        "\n",
        "# Example 3: Antibody CDR optimization\n",
        "print(\"\\n3️⃣ Antibody CDR Library Design:\")\n",
        "cdr_sequences = [\n",
        "    (\"CDR1\", \"RASQSISSWLA\", {4: \"QE\", 6: \"ST\"}),\n",
        "    (\"CDR2\", \"AASSLQS\", {3: \"ST\", 5: \"LI\"}),\n",
        "    (\"CDR3\", \"QQSYSTPLT\", {3: \"SY\", 6: \"ST\", 8: \"LT\"})\n",
        "]\n",
        "\n",
        "for name, seq, vars in cdr_sequences:\n",
        "    result = phagetrix.optimize_codons(seq, vars)\n",
        "    stats = phagetrix.calculate_library_stats(seq, vars)\n",
        "    print(f\"{name}: {result['final_sequence']} (diversity: {stats['diversity']})\")\n",
        "\n",
        "print(\"\\n✨ Ready to design your own phage display library!\")"
      ]
    },
    {
      "cell_type": "markdown",
      "metadata": {
        "id": "Q07IhYoevNk_"
      },
      "source": [
        "## 📚 Citation & Documentation\n",
        "\n",
        "**To cite Phagetrix, please use:**\n",
        "- DOI: https://doi.org/10.5281/zenodo.7676572\n",
        "- GitHub: https://github.com/retospect/phagetrix\n",
        "- PyPI: https://pypi.org/project/phagetrix/\n",
        "\n",
        "**Learn More:**\n",
        "- 📖 [Library Usage Guide](https://github.com/retospect/phagetrix/blob/main/LIBRARY_USAGE.md)\n",
        "- 🔬 [Examples](https://github.com/retospect/phagetrix/tree/main/examples)\n",
        "- 🛠️ [API Documentation](https://github.com/retospect/phagetrix)\n",
        "\n",
        "**Supported Python Versions:** 3.10, 3.11, 3.12, 3.13\n",
        "\n",
        "---\n",
        "*This notebook demonstrates Phagetrix v1.0+ with modern API, comprehensive testing, and automated CI/CD.*"
      ]
    }
  ],
  "metadata": {
    "colab": {
      "provenance": []
    },
    "kernelspec": {
      "display_name": "Python 3",
      "name": "python3"
    },
    "language_info": {
      "name": "python"
    }
  },
  "nbformat": 4,
  "nbformat_minor": 0
}
