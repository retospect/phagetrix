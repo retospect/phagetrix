{
  "nbformat": 4,
  "nbformat_minor": 0,
  "metadata": {
    "colab": {
      "provenance": []
    },
    "kernelspec": {
      "name": "python3",
      "display_name": "Python 3"
    },
    "language_info": {
      "name": "python"
    }
  },
  "cells": [
    {
      "cell_type": "code",
      "execution_count": 1,
      "metadata": {
        "colab": {
          "base_uri": "https://localhost:8080/"
        },
        "id": "fU6iJfnCgGaS",
        "outputId": "bbb264ff-60e9-4edc-ebc8-bb9df915a9b5"
      },
      "outputs": [
        {
          "output_type": "stream",
          "name": "stdout",
          "text": [
            "Looking in indexes: https://pypi.org/simple, https://us-python.pkg.dev/colab-wheels/public/simple/\n",
            "Collecting phagetrix\n",
            "  Downloading phagetrix-0.1.2-py2.py3-none-any.whl (17 kB)\n",
            "Collecting python_codon_tables\n",
            "  Downloading python_codon_tables-0.1.12-py3-none-any.whl (18 kB)\n",
            "Installing collected packages: python_codon_tables, phagetrix\n",
            "Successfully installed phagetrix-0.1.2 python_codon_tables-0.1.12\n"
          ]
        }
      ],
      "source": [
        "!pip install phagetrix\n",
        "import phagetrix"
      ]
    },
    {
      "cell_type": "code",
      "source": [],
      "metadata": {
        "id": "HhHcbzUVgHBV"
      },
      "execution_count": 1,
      "outputs": []
    }
  ]
}