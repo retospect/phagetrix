{
  "nbformat": 4,
  "nbformat_minor": 0,
  "metadata": {
    "colab": {
      "provenance": []
    },
    "kernelspec": {
      "name": "python3",
      "display_name": "Python 3"
    },
    "language_info": {
      "name": "python"
    }
  },
  "cells": [
    {
      "cell_type": "markdown",
      "source": [
        "Example for Phagetrix, a commandline tool available from https://github.com/retospect/phagetrix.\n",
        "\n",
        "Click on Runtime → Run All in the menu, or click the play buttons in order."
      ],
      "metadata": {
        "id": "LAPcUzq5m7SI"
      }
    },
    {
      "cell_type": "code",
      "execution_count": null,
      "metadata": {
        "id": "fU6iJfnCgGaS"
      },
      "outputs": [],
      "source": [
        "#!pip cache purge\n",
        "\n",
        "# Installing phagetrix here\n",
        "!pip install phagetrix"
      ]
    },
    {
      "cell_type": "code",
      "source": [
        "import phagetrix.exec as ptx\n",
        "import phagetrix.trix as trix\n",
        "\n",
        "request = \"\"\"VLPYMVAAQVQ\n",
        "P3PFYA\n",
        "Y4YPFYA\n",
        "A7AVILM\n",
        "A8AV\n",
        "\"\"\"\n",
        "\n",
        "# The request is to generate codons for the sequence VLPYMVAAQVQ\n",
        "# However, the P in position 3 should be a P, F, Y or A\n",
        "# and the A in position 7 should be a A, V, I, L or M\n",
        "# etc.\n",
        "\n",
        "# use the degenerate system supported by IDT:\n",
        "degen_dict = trix.degenerate[\"IDT\"]\n",
        "\n",
        "# Generate the sequences\n",
        "ptx.process_request(request.split(\"\\n\"), degen_dict)"
      ],
      "metadata": {
        "id": "HhHcbzUVgHBV"
      },
      "execution_count": null,
      "outputs": []
    }
  ]
}
